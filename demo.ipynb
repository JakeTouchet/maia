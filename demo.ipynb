{
 "cells": [
  {
   "cell_type": "markdown",
   "metadata": {},
   "source": [
    "# MAIA Demo"
   ]
  },
  {
   "cell_type": "code",
   "execution_count": 1,
   "metadata": {},
   "outputs": [],
   "source": [
    "import argparse\n",
    "from getpass import getpass\n",
    "import os\n",
    "from tqdm import tqdm\n",
    "import time\n",
    "from random import random, uniform\n",
    "import torch\n",
    "import json\n",
    "from call_agent import ask_agent\n",
    "from IPython import embed\n",
    "from maia_api import *\n",
    "import random\n",
    "from main import *"
   ]
  },
  {
   "cell_type": "markdown",
   "metadata": {},
   "source": [
    "### Load openai api key \n",
    "\n",
    "(in case you don't have an openai api-key, you can get one by following the instructions [here](https://platform.openai.com/docs/quickstart)).\n",
    "\\\n",
    "\\\n",
    "option 1:\n",
    "\\\n",
    "&nbsp;&nbsp;&nbsp;&nbsp;&nbsp;&nbsp;&nbsp;Set your api-key as an environment variable (this is a bash command, look [here](https://platform.openai.com/docs/quickstart) for other OS)\n",
    "```bash\n",
    "export OPENAI_API_KEY='your-api-key-here'\n",
    "```\n",
    "&nbsp;&nbsp;&nbsp;&nbsp;&nbsp;&nbsp;&nbsp;Load your API key from an environment variable or secret management service\n",
    "```python\n",
    "openai.api_key = os.getenv(\"OPENAI_API_KEY\")\n",
    "```\n",
    "option 2:\n",
    "\\\n",
    "&nbsp;&nbsp;&nbsp;&nbsp;&nbsp;&nbsp;&nbsp;Load your API key manually:\n",
    "```python\n",
    "openai.api_key = 'your-api-key-here'\n",
    "```\n"
   ]
  },
  {
   "cell_type": "code",
   "execution_count": 4,
   "metadata": {},
   "outputs": [],
   "source": [
    "openai.api_key = os.getenv(\"OPENAI_API_KEY\")\n",
    "openai.organization = os.getenv(\"OPENAI_ORGANIZATION\")"
   ]
  },
  {
   "cell_type": "code",
   "execution_count": 5,
   "metadata": {},
   "outputs": [
    {
     "ename": "NameError",
     "evalue": "name 'return_Prompt' is not defined",
     "output_type": "error",
     "traceback": [
      "\u001b[0;31m---------------------------------------------------------------------------\u001b[0m",
      "\u001b[0;31mNameError\u001b[0m                                 Traceback (most recent call last)",
      "Cell \u001b[0;32mIn[5], line 9\u001b[0m\n\u001b[1;32m      7\u001b[0m path2save \u001b[38;5;241m=\u001b[39m \u001b[38;5;124m'\u001b[39m\u001b[38;5;124m./results/\u001b[39m\u001b[38;5;124m'\u001b[39m\n\u001b[1;32m      8\u001b[0m path2exemplars \u001b[38;5;241m=\u001b[39m \u001b[38;5;124m'\u001b[39m\u001b[38;5;124m/data/vision/torralba/Functions/maia/exemplars/\u001b[39m\u001b[38;5;124m'\u001b[39m\n\u001b[0;32m----> 9\u001b[0m maia_api, user_query \u001b[38;5;241m=\u001b[39m \u001b[43mreturn_Prompt\u001b[49m(path2prompts, setting) \u001b[38;5;66;03m# load system prompt (maia api) and user prompt (the user query)\u001b[39;00m\n\u001b[1;32m     10\u001b[0m device_id \u001b[38;5;241m=\u001b[39m \u001b[38;5;241m0\u001b[39m\n\u001b[1;32m     11\u001b[0m device \u001b[38;5;241m=\u001b[39m torch\u001b[38;5;241m.\u001b[39mdevice(\u001b[38;5;124mf\u001b[39m\u001b[38;5;124m\"\u001b[39m\u001b[38;5;124mcuda:\u001b[39m\u001b[38;5;132;01m{\u001b[39;00mdevice_id\u001b[38;5;132;01m}\u001b[39;00m\u001b[38;5;124m\"\u001b[39m \u001b[38;5;28;01mif\u001b[39;00m torch\u001b[38;5;241m.\u001b[39mcuda\u001b[38;5;241m.\u001b[39mis_available() \u001b[38;5;28;01melse\u001b[39;00m \u001b[38;5;124m\"\u001b[39m\u001b[38;5;124mcpu\u001b[39m\u001b[38;5;124m\"\u001b[39m) \u001b[38;5;66;03m#torch.device(\"cuda\" if torch.cuda.is_available() else \"CPU\")\u001b[39;00m\n",
      "\u001b[0;31mNameError\u001b[0m: name 'return_Prompt' is not defined"
     ]
    }
   ],
   "source": [
    "model = 'resnet152' # we currently support 'resnet152', 'clip-RN50', 'dino_vits8'\n",
    "layer = 'layer4'\n",
    "unit = 122\n",
    "setting = 'neuron_description'\n",
    "maia_model = 'gpt-4-vision-preview'\n",
    "path2prompts = './prompts/'\n",
    "path2save = './results/'\n",
    "path2exemplars = '/data/vision/torralba/Functions/maia/exemplars/'\n",
    "maia_api, user_query = return_Prompt(path2prompts, setting) # load system prompt (maia api) and user prompt (the user query)\n",
    "device_id = 0\n",
    "device = torch.device(f\"cuda:{device_id}\" if torch.cuda.is_available() else \"cpu\") #torch.device(\"cuda\" if torch.cuda.is_available() else \"CPU\")\n",
    "text2image = 'sd'"
   ]
  },
  {
   "cell_type": "markdown",
   "metadata": {},
   "source": [
    "### MAIA API"
   ]
  },
  {
   "cell_type": "code",
   "execution_count": 6,
   "metadata": {
    "scrolled": true
   },
   "outputs": [
    {
     "ename": "NameError",
     "evalue": "name 'maia_api' is not defined",
     "output_type": "error",
     "traceback": [
      "\u001b[0;31m---------------------------------------------------------------------------\u001b[0m",
      "\u001b[0;31mNameError\u001b[0m                                 Traceback (most recent call last)",
      "Cell \u001b[0;32mIn[6], line 1\u001b[0m\n\u001b[0;32m----> 1\u001b[0m \u001b[38;5;28mprint\u001b[39m(\u001b[43mmaia_api\u001b[49m)\n",
      "\u001b[0;31mNameError\u001b[0m: name 'maia_api' is not defined"
     ]
    }
   ],
   "source": [
    "print(maia_api)"
   ]
  },
  {
   "cell_type": "markdown",
   "metadata": {},
   "source": [
    "### Interpretability task"
   ]
  },
  {
   "cell_type": "code",
   "execution_count": 7,
   "metadata": {
    "scrolled": true
   },
   "outputs": [
    {
     "ename": "NameError",
     "evalue": "name 'user_query' is not defined",
     "output_type": "error",
     "traceback": [
      "\u001b[0;31m---------------------------------------------------------------------------\u001b[0m",
      "\u001b[0;31mNameError\u001b[0m                                 Traceback (most recent call last)",
      "Cell \u001b[0;32mIn[7], line 1\u001b[0m\n\u001b[0;32m----> 1\u001b[0m \u001b[38;5;28mprint\u001b[39m(\u001b[43muser_query\u001b[49m)\n",
      "\u001b[0;31mNameError\u001b[0m: name 'user_query' is not defined"
     ]
    }
   ],
   "source": [
    "print(user_query)"
   ]
  },
  {
   "cell_type": "markdown",
   "metadata": {},
   "source": [
    "### Initializations"
   ]
  },
  {
   "cell_type": "code",
   "execution_count": 8,
   "metadata": {},
   "outputs": [
    {
     "ename": "NameError",
     "evalue": "name 'device_id' is not defined",
     "output_type": "error",
     "traceback": [
      "\u001b[0;31m---------------------------------------------------------------------------\u001b[0m",
      "\u001b[0;31mNameError\u001b[0m                                 Traceback (most recent call last)",
      "Cell \u001b[0;32mIn[8], line 2\u001b[0m\n\u001b[1;32m      1\u001b[0m net_dissect \u001b[38;5;241m=\u001b[39m DatasetExemplars(path2exemplars, path2save, model, layer, [unit]) \u001b[38;5;66;03m# precomputes dataset exemplars for tools.dataset_exemplars\u001b[39;00m\n\u001b[0;32m----> 2\u001b[0m system \u001b[38;5;241m=\u001b[39m System(unit, layer, model, \u001b[43mdevice_id\u001b[49m, net_dissect\u001b[38;5;241m.\u001b[39mthresholds) \u001b[38;5;66;03m# initialize the system class\u001b[39;00m\n\u001b[1;32m      3\u001b[0m tools \u001b[38;5;241m=\u001b[39m Tools(path2save, device_id, net_dissect, text2image_model_name\u001b[38;5;241m=\u001b[39mtext2image, images_per_prompt\u001b[38;5;241m=\u001b[39m\u001b[38;5;241m1\u001b[39m) \u001b[38;5;66;03m# initialize the tools class\u001b[39;00m\n",
      "\u001b[0;31mNameError\u001b[0m: name 'device_id' is not defined"
     ]
    }
   ],
   "source": [
    "net_dissect = DatasetExemplars(path2exemplars, path2save, model, layer, [unit]) # precomputes dataset exemplars for tools.dataset_exemplars\n",
    "system = System(unit, layer, model, device_id, net_dissect.thresholds) # initialize the system class\n",
    "tools = Tools(path2save, device_id, net_dissect, text2image_model_name=text2image, images_per_prompt=1) # initialize the tools class"
   ]
  },
  {
   "cell_type": "code",
   "execution_count": null,
   "metadata": {},
   "outputs": [],
   "source": [
    "tools.experiment_log = []\n",
    "tools.update_experiment_log(role='system', type=\"text\", type_content=maia_api) # update the experiment log with the system prompt\n",
    "tools.update_experiment_log(role='user', type=\"text\", type_content=user_query) # update the experiment log with the user prompt"
   ]
  },
  {
   "cell_type": "markdown",
   "metadata": {},
   "source": [
    "### Utils"
   ]
  },
  {
   "cell_type": "code",
   "execution_count": null,
   "metadata": {},
   "outputs": [],
   "source": [
    "# Parse the code by locating Python syntax\n",
    "def get_code(maia_experiment):\n",
    "    maia_code = maia_experiment.split('```python')[1].split('```')[0]\n",
    "    return maia_code\n",
    "\n",
    "# Run the code on python\n",
    "def execute_maia_experiment(code,system,tools): \n",
    "    exec(compile(code, 'code', 'exec'), globals())\n",
    "    execute_command(system,tools)\n",
    "    return  \n",
    "\n",
    "# Plot the results from the experiment log\n",
    "def plot_results_notebook(experiment_log):\n",
    "    if (experiment_log['role'] == 'assistant'):\n",
    "        print('\\n\\n*** MAIA: ***\\n\\n')  \n",
    "    else: \n",
    "        print('\\n\\n*** Experiment Execution: ***\\n\\n')\n",
    "    for item in experiment_log['content']:\n",
    "        if item['type'] == 'text':\n",
    "            print(item['text'])\n",
    "        elif item['type'] == 'image_url':\n",
    "            display(str2image(item['image_url']['url'].split(',')[1]))"
   ]
  },
  {
   "cell_type": "markdown",
   "metadata": {},
   "source": [
    "### MAIA's interpretation experiment\n",
    "\n",
    "Please note: \n",
    "This demo does not handle open-ai api exceptions, please switch to ```main.py``` for error handling  (recommended for looping over several units). ```main.py``` also handles saving results."
   ]
  },
  {
   "cell_type": "code",
   "execution_count": null,
   "metadata": {
    "scrolled": true
   },
   "outputs": [],
   "source": [
    "while True:\n",
    "    maia_experiment = ask_agent(maia_model,tools.experiment_log) # ask maia for the next experiment given the results log to the experiment log\n",
    "    if \"[DESCRIPTION]\" in maia_experiment: break # stop the experiment if the response contains the final description. \n",
    "    tools.update_experiment_log(role='maia', type=\"text\", type_content=str(maia_experiment)) # update the experiment log with maia's response \n",
    "    plot_results_notebook(tools.experiment_log[-1]) # plot the result to notebook\n",
    "    maia_code = get_code(maia_experiment) # parse the code by locating Python syntax\n",
    "    execute_maia_experiment(maia_code,system,tools) # execute the experiment, maia's code should contain tools.update_experiment_log(...) \n",
    "    plot_results_notebook(tools.experiment_log[-1]) # plot the result to notebook"
   ]
  }
 ],
 "metadata": {
  "kernelspec": {
   "display_name": "maia",
   "language": "python",
   "name": "maia"
  },
  "language_info": {
   "codemirror_mode": {
    "name": "ipython",
    "version": 3
   },
   "file_extension": ".py",
   "mimetype": "text/x-python",
   "name": "python",
   "nbconvert_exporter": "python",
   "pygments_lexer": "ipython3",
   "version": "3.8.18"
  }
 },
 "nbformat": 4,
 "nbformat_minor": 4
}
