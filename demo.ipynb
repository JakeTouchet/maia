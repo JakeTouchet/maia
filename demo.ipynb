{
 "cells": [
  {
   "cell_type": "markdown",
   "metadata": {},
   "source": [
    "# MAIA Demo\n",
    "\n",
    "#### Many of MAIA's experiments are available in the [experiment browser](https://multimodal-interpretability.csail.mit.edu/maia/experiment-browser/) ####"
   ]
  },
  {
   "cell_type": "code",
   "execution_count": 3,
   "metadata": {},
   "outputs": [
    {
     "name": "stdout",
     "output_type": "stream",
     "text": [
      "<class 'str'>\n"
     ]
    }
   ],
   "source": [
    "import os\n",
    "\n",
    "import openai\n",
    "from dotenv import load_dotenv\n",
    "\n",
    "# Some imports require api key to be set ######\n",
    "# Load environment variables\n",
    "load_dotenv()\n",
    "\n",
    "# Load OpenAI API key\n",
    "openai.api_key = os.getenv(\"OPENAI_API_KEY\")\n",
    "#openai.organization = os.getenv(\"OPENAI_ORGANIZATION\")\n",
    "print(type(openai.api_key))\n",
    "###############################################\n",
    "\n",
    "\n",
    "from maia_api import System, Tools\n",
    "from utils.DatasetExemplars import DatasetExemplars\n",
    "from utils.main_utils import generate_save_path\n",
    "from utils.InterpAgent import InterpAgent"
   ]
  },
  {
   "cell_type": "code",
   "execution_count": 4,
   "metadata": {},
   "outputs": [
    {
     "data": {
      "application/vnd.jupyter.widget-view+json": {
       "model_id": "6a4553e5441a4e2bb54a028bcb7a6435",
       "version_major": 2,
       "version_minor": 0
      },
      "text/plain": [
       "VBox(children=(HTML(value='<center> <img\\nsrc=https://huggingface.co/front/assets/huggingface_logo-noborder.sv…"
      ]
     },
     "metadata": {},
     "output_type": "display_data"
    }
   ],
   "source": [
    "# Login for access to sd-3.5\n",
    "from huggingface_hub import login\n",
    "login()"
   ]
  },
  {
   "cell_type": "code",
   "execution_count": 16,
   "metadata": {},
   "outputs": [
    {
     "name": "stdout",
     "output_type": "stream",
     "text": [
      "../results/gpt-4o-mini/test\n"
     ]
    }
   ],
   "source": [
    "maia_model = 'gpt-4o-mini'\n",
    "task = 'neuron_description'\n",
    "n_exemplars = 15\n",
    "model_name = \"resnet152\"\n",
    "layer = \"layer4\"\n",
    "neuron_num = 20\n",
    "images_per_prompt = 1\n",
    "path2save = '../results'\n",
    "path2prompts = './prompts'\n",
    "path2exemplars = './exemplars'\n",
    "device = 1\n",
    "text2image = 'sd'\n",
    "debug = True\n",
    "\n",
    "unit_config = {model_name: {layer: [neuron_num]}}\n",
    "\n",
    "path2save = generate_save_path(path2save, maia_model, \"test\")\n",
    "print(path2save)\n",
    "os.makedirs(path2save, exist_ok=True)"
   ]
  },
  {
   "cell_type": "code",
   "execution_count": 17,
   "metadata": {},
   "outputs": [
    {
     "data": {
      "application/vnd.jupyter.widget-view+json": {
       "model_id": "37d1af23d77f4a78aa190d89fe3144f3",
       "version_major": 2,
       "version_minor": 0
      },
      "text/plain": [
       "Loading pipeline components...:   0%|          | 0/7 [00:00<?, ?it/s]"
      ]
     },
     "metadata": {},
     "output_type": "display_data"
    },
    {
     "data": {
      "application/vnd.jupyter.widget-view+json": {
       "model_id": "6fb1155c6a2d45539f4b5d8d517b1320",
       "version_major": 2,
       "version_minor": 0
      },
      "text/plain": [
       "Loading pipeline components...:   0%|          | 0/6 [00:00<?, ?it/s]"
      ]
     },
     "metadata": {},
     "output_type": "display_data"
    },
    {
     "name": "stdout",
     "output_type": "stream",
     "text": [
      "../results/gpt-4o-mini/test/experiment_0.html\n"
     ]
    }
   ],
   "source": [
    "maia = InterpAgent(\n",
    "            model_name=maia_model,\n",
    "            prompt_path=path2prompts,\n",
    "            api_prompt_name=\"api.txt\",\n",
    "            user_prompt_name=f\"user_{task}.txt\",\n",
    "            overload_prompt_name=\"final.txt\",\n",
    "            end_experiment_token=\"[FINAL]\",\n",
    "            max_round_count=25,\n",
    "            debug=debug\n",
    "        )\n",
    "net_dissect = DatasetExemplars(path2exemplars, n_exemplars, path2save, unit_config)\n",
    "system = System(model_name, layer, neuron_num, net_dissect.thresholds, device)\n",
    "tools = Tools(path2save, device, maia, system, net_dissect, images_per_prompt=images_per_prompt, text2image_model_name=text2image, image2text_model_name=maia)\n",
    "\n",
    "print(tools.html_path)"
   ]
  },
  {
   "cell_type": "code",
   "execution_count": null,
   "metadata": {},
   "outputs": [],
   "source": [
    "maia.run_experiment(system, tools, save_html=True)"
   ]
  }
 ],
 "metadata": {
  "kernelspec": {
   "display_name": "maia-mamba2",
   "language": "python",
   "name": "python3"
  },
  "language_info": {
   "codemirror_mode": {
    "name": "ipython",
    "version": 3
   },
   "file_extension": ".py",
   "mimetype": "text/x-python",
   "name": "python",
   "nbconvert_exporter": "python",
   "pygments_lexer": "ipython3",
   "version": "3.8.18"
  }
 },
 "nbformat": 4,
 "nbformat_minor": 4
}
