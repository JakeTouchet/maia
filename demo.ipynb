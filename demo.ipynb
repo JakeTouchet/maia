{
 "cells": [
  {
   "cell_type": "markdown",
   "metadata": {},
   "source": [
    "# MAIA Demo\n",
    "\n",
    "#### Many of MAIA's experiments are available in the [experiment browser](https://multimodal-interpretability.csail.mit.edu/maia/experiment-browser/) ####"
   ]
  },
  {
   "cell_type": "code",
   "execution_count": null,
   "metadata": {},
   "outputs": [],
   "source": [
    "import argparse\n",
    "from getpass import getpass\n",
    "import os\n",
    "from tqdm import tqdm\n",
    "import time\n",
    "from random import random, uniform\n",
    "import torch\n",
    "import json\n",
    "from call_agent import ask_agent\n",
    "from IPython import embed\n",
    "from maia_api import *\n",
    "import random"
   ]
  },
  {
   "cell_type": "markdown",
   "metadata": {},
   "source": [
    "### Load openai api key \n",
    "\n",
    "(in case you don't have an openai api-key, you can get one by following the instructions [here](https://platform.openai.com/docs/quickstart)).\n",
    "\\\n",
    "\\\n",
    "option 1:\n",
    "\\\n",
    "&nbsp;&nbsp;&nbsp;&nbsp;&nbsp;&nbsp;&nbsp;Set your api-key as an environment variable (this is a bash command, look [here](https://platform.openai.com/docs/quickstart) for other OS)\n",
    "```bash\n",
    "export OPENAI_API_KEY='your-api-key-here'\n",
    "```\n",
    "&nbsp;&nbsp;&nbsp;&nbsp;&nbsp;&nbsp;&nbsp;Load your API key from an environment variable or secret management service\n",
    "```python\n",
    "openai.api_key = os.getenv(\"OPENAI_API_KEY\")\n",
    "```\n",
    "option 2:\n",
    "\\\n",
    "&nbsp;&nbsp;&nbsp;&nbsp;&nbsp;&nbsp;&nbsp;Load your API key manually:\n",
    "```python\n",
    "openai.api_key = 'your-api-key-here'\n",
    "```\n"
   ]
  },
  {
   "cell_type": "code",
   "execution_count": null,
   "metadata": {},
   "outputs": [],
   "source": [
    "openai.api_key = os.getenv(\"OPENAI_API_KEY\")\n",
    "openai.organization = os.getenv(\"OPENAI_ORGANIZATION\")"
   ]
  },
  {
   "cell_type": "code",
   "execution_count": null,
   "metadata": {},
   "outputs": [],
   "source": [
    "model = 'resnet152' # we currently support 'resnet152', 'clip-RN50', 'dino_vits8'\n",
    "layer = 'layer4'\n",
    "unit = 122\n",
    "setting = 'neuron_description'\n",
    "maia_model = 'gpt-4-vision-preview'\n",
    "path2prompts = './prompts/'\n",
    "path2save = './results/'\n",
    "path2exemplars = '/data/vision/torralba/Functions/maia/exemplars/'\n",
    "device_id = 0\n",
    "device = torch.device(f\"cuda:{device_id}\" if torch.cuda.is_available() else \"cpu\") \n",
    "text2image = 'sd' # \"sd\" is for stable-diffusion"
   ]
  },
  {
   "cell_type": "code",
   "execution_count": null,
   "metadata": {},
   "outputs": [],
   "source": [
    "# return the prompt according to the task\n",
    "def return_Prompt(prompt_path,setting='neuron_description'):\n",
    "    with open(f'{prompt_path}/api.txt', 'r') as file:\n",
    "        sysPrompt = file.read()\n",
    "    with open(f'{prompt_path}/user_{setting}.txt', 'r') as file:\n",
    "        user_prompt = file.read()\n",
    "    return sysPrompt, user_prompt\n",
    "    \n",
    "maia_api, user_query = return_Prompt(path2prompts, setting) # load system prompt (maia api) and user prompt (the user query)"
   ]
  },
  {
   "cell_type": "markdown",
   "metadata": {},
   "source": [
    "### MAIA API"
   ]
  },
  {
   "cell_type": "code",
   "execution_count": null,
   "metadata": {
    "scrolled": true
   },
   "outputs": [],
   "source": [
    "print(maia_api)"
   ]
  },
  {
   "cell_type": "markdown",
   "metadata": {},
   "source": [
    "### Interpretability task"
   ]
  },
  {
   "cell_type": "code",
   "execution_count": null,
   "metadata": {
    "scrolled": true
   },
   "outputs": [],
   "source": [
    "print(user_query)"
   ]
  },
  {
   "cell_type": "markdown",
   "metadata": {},
   "source": [
    "### Initializations"
   ]
  },
  {
   "cell_type": "code",
   "execution_count": null,
   "metadata": {},
   "outputs": [],
   "source": [
    "net_dissect = DatasetExemplars(path2exemplars, path2save, model, layer, [unit]) # precomputes dataset exemplars for tools.dataset_exemplars\n",
    "system = System(unit, layer, model, device_id, net_dissect.thresholds) # initialize the system class\n",
    "tools = Tools(path2save, device_id, net_dissect, text2image_model_name=text2image, images_per_prompt=1) # initialize the tools class"
   ]
  },
  {
   "cell_type": "code",
   "execution_count": null,
   "metadata": {},
   "outputs": [],
   "source": [
    "tools.experiment_log = []\n",
    "tools.update_experiment_log(role='system', type=\"text\", type_content=maia_api) # update the experiment log with the system prompt\n",
    "tools.update_experiment_log(role='user', type=\"text\", type_content=user_query) # update the experiment log with the user prompt"
   ]
  },
  {
   "cell_type": "markdown",
   "metadata": {},
   "source": [
    "### Utils"
   ]
  },
  {
   "cell_type": "code",
   "execution_count": null,
   "metadata": {},
   "outputs": [],
   "source": [
    "# Parse the code by locating Python syntax\n",
    "def get_code(maia_experiment):\n",
    "    maia_code = maia_experiment.split('```python')[1].split('```')[0]\n",
    "    return maia_code\n",
    "\n",
    "# Run the code on python\n",
    "def execute_maia_experiment(code,system,tools): \n",
    "    exec(compile(code, 'code', 'exec'), globals())\n",
    "    execute_command(system,tools)\n",
    "    return  \n",
    "\n",
    "# Plot the results from the experiment log\n",
    "def plot_results_notebook(experiment_log):\n",
    "    if (experiment_log['role'] == 'assistant'):\n",
    "        print('\\n\\n*** MAIA: ***\\n\\n')  \n",
    "    else: \n",
    "        print('\\n\\n*** Experiment Execution: ***\\n\\n')\n",
    "    for item in experiment_log['content']:\n",
    "        if item['type'] == 'text':\n",
    "            print(item['text'])\n",
    "        elif item['type'] == 'image_url':\n",
    "            display(str2image(item['image_url']['url'].split(',')[1]))"
   ]
  },
  {
   "cell_type": "markdown",
   "metadata": {},
   "source": [
    "### MAIA's interpretation experiment\n",
    "\n",
    "Please note: \n",
    "This demo does not handle open-ai api exceptions, please switch to ```main.py``` for error handling  (recommended for looping over several units). ```main.py``` also handles saving results."
   ]
  },
  {
   "cell_type": "code",
   "execution_count": null,
   "metadata": {
    "scrolled": true
   },
   "outputs": [],
   "source": [
    "while True:\n",
    "    maia_experiment = ask_agent(maia_model,tools.experiment_log) # ask maia for the next experiment given the results log to the experiment log\n",
    "    tools.update_experiment_log(role='maia', type=\"text\", type_content=str(maia_experiment)) # update the experiment log with maia's response \n",
    "    plot_results_notebook(tools.experiment_log[-1]) # plot the result to notebook\n",
    "    if \"[DESCRIPTION]\" in maia_experiment: break # stop the experiment if the response contains the final description. \n",
    "    maia_code = get_code(maia_experiment) # parse the code by locating Python syntax\n",
    "    execute_maia_experiment(maia_code, system, tools) # execute the experiment, maia's code should contain tools.update_experiment_log(...) \n",
    "    plot_results_notebook(tools.experiment_log[-1]) # plot the result to notebook"
   ]
  }
 ],
 "metadata": {
  "kernelspec": {
   "display_name": "maia",
   "language": "python",
   "name": "maia"
  },
  "language_info": {
   "codemirror_mode": {
    "name": "ipython",
    "version": 3
   },
   "file_extension": ".py",
   "mimetype": "text/x-python",
   "name": "python",
   "nbconvert_exporter": "python",
   "pygments_lexer": "ipython3",
   "version": "3.8.18"
  }
 },
 "nbformat": 4,
 "nbformat_minor": 4
}
