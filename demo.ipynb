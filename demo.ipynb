{
 "cells": [
  {
   "cell_type": "markdown",
   "metadata": {},
   "source": [
    "# MAIA Demo\n",
    "\n",
    "#### Many of MAIA's experiments are available in the [experiment browser](https://multimodal-interpretability.csail.mit.edu/maia/experiment-browser/) ####"
   ]
  },
  {
   "cell_type": "code",
   "execution_count": null,
   "metadata": {},
   "outputs": [],
   "source": [
    "import os\n",
    "\n",
    "import openai\n",
    "from dotenv import load_dotenv\n",
    "\n",
    "# Some imports require api key to be set ######\n",
    "# Load environment variables\n",
    "load_dotenv()\n",
    "\n",
    "# Load OpenAI API key\n",
    "openai.api_key = os.getenv(\"OPENAI_API_KEY\")\n",
    "openai.organization = os.getenv(\"OPENAI_ORGANIZATION\")\n",
    "###############################################\n",
    "\n",
    "\n",
    "from maia_api import System, Tools, SyntheticSystem\n",
    "from utils.DatasetExemplars import DatasetExemplars, SyntheticExemplars\n",
    "from utils.main_utils import generate_save_path, create_bias_prompt, retrieve_synth_label\n",
    "from utils.InterpAgent import InterpAgent\n",
    "from utils.api_utils import str2image\n",
    "from utils.ExperimentEnvironment import ExperimentEnvironment\n",
    "from utils.call_agent import ask_agent"
   ]
  },
  {
   "cell_type": "markdown",
   "metadata": {},
   "source": [
    "Stable-Diffusion 3.5 requires access to run. You can request it here: https://huggingface.co/stabilityai/stable-diffusion-3.5-medium"
   ]
  },
  {
   "cell_type": "code",
   "execution_count": null,
   "metadata": {},
   "outputs": [],
   "source": [
    "# Login for access to sd-3.5\n",
    "from huggingface_hub import login\n",
    "login()"
   ]
  },
  {
   "cell_type": "markdown",
   "metadata": {},
   "source": [
    "### Utils"
   ]
  },
  {
   "cell_type": "code",
   "execution_count": 2,
   "metadata": {},
   "outputs": [],
   "source": [
    "# Plot the results from the experiment log\n",
    "def plot_results_notebook(log_entry):\n",
    "    if (log_entry['role'] == 'assistant'):\n",
    "        print('\\n\\n*** MAIA: ***\\n\\n')  \n",
    "    for item in log_entry['content']:\n",
    "        if item['type'] == 'text':\n",
    "            print(item['text'])\n",
    "        elif item['type'] == 'image_url':\n",
    "            display(str2image(item['image_url']['url'].split(',')[1]))"
   ]
  },
  {
   "cell_type": "code",
   "execution_count": null,
   "metadata": {},
   "outputs": [],
   "source": [
    "# MAIA's experiment loop, redefined here to display to the notebook after each step\n",
    "\n",
    "class InterpAgentDemo(InterpAgent):\n",
    "    def run_experiment(self, system: System, tools: Tools, save_html=False):\n",
    "        \"\"\"Runs the experiment loop. \"\"\"\n",
    "\n",
    "        # Make sure experiment log is clean\n",
    "        self._init_experiment_log()\n",
    "        experiment_env = ExperimentEnvironment(system, tools, globals())\n",
    "        # Set Tools to point to this CodeAgent\n",
    "        temp_agent, tools.agent = tools.agent, self\n",
    "        # Experiment loop\n",
    "        round_count = 0\n",
    "        while True:\n",
    "            round_count += 1\n",
    "            model_experiment = ask_agent(self.model_name, self.experiment_log)\n",
    "            self.update_experiment_log(role='model', type=\"text\", type_content=str(model_experiment))\n",
    "            if save_html:\n",
    "                tools.generate_html(self.experiment_log)\n",
    "            if self.debug:\n",
    "                print(model_experiment)\n",
    "            \n",
    "            if round_count > self.max_round_count:\n",
    "                self._overload_instructions()\n",
    "            else:\n",
    "                if self.end_experiment_token in model_experiment:\n",
    "                    break\n",
    "                \n",
    "                try:\n",
    "                    experiment_output = experiment_env.execute_experiment(model_experiment)\n",
    "                    if experiment_output != \"\":\n",
    "                        self.update_experiment_log(role='user', type=\"text\", type_content=experiment_output)\n",
    "                except ValueError:\n",
    "                    self.update_experiment_log(role='execution', \n",
    "                                               type=\"text\", \n",
    "                                               type_content=f\"No code to run was provided, please continue with the experiments based on your findings, or output your final {self.end_experiment_token}.\")\n",
    "            # Plot the results from the experiment log\n",
    "            for log_entry in self.experiment_log:\n",
    "                plot_results_notebook(log_entry)\n",
    "        if save_html:\n",
    "                tools.generate_html(self.experiment_log)\n",
    "        \n",
    "        # Restore tools to its original state\n",
    "        tools.agent = temp_agent"
   ]
  },
  {
   "cell_type": "markdown",
   "metadata": {},
   "source": [
    "### Arguments"
   ]
  },
  {
   "cell_type": "code",
   "execution_count": null,
   "metadata": {},
   "outputs": [],
   "source": [
    "maia_model = 'gpt-4o'\n",
    "task = 'neuron_description'\n",
    "n_exemplars = 15\n",
    "model_name = \"resnet152\"\n",
    "layer = \"layer4\"\n",
    "neuron_num = 20\n",
    "images_per_prompt = 1\n",
    "path2save = '../results'\n",
    "path2prompts = './prompts'\n",
    "path2exemplars = './exemplars'\n",
    "path2indices = './neuron_indices'\n",
    "device = 1\n",
    "text2image = 'sd'\n",
    "debug = True\n",
    "\n",
    "unit_config = {model_name: {layer: [neuron_num]}}\n",
    "\n",
    "path2save = generate_save_path(path2save, maia_model, \"test\")\n",
    "print(path2save)\n",
    "os.makedirs(path2save, exist_ok=True)"
   ]
  },
  {
   "cell_type": "markdown",
   "metadata": {},
   "source": [
    "### Initialize MAIA"
   ]
  },
  {
   "cell_type": "code",
   "execution_count": null,
   "metadata": {},
   "outputs": [],
   "source": [
    "# Prompt needs to be created dynamically for bias_discovery so class label can be inserted\n",
    "if task == \"bias_discovery\":\n",
    "    create_bias_prompt(path2indices, path2prompts, str(neuron_num))\n",
    "\n",
    "# Add API configuration\n",
    "api = [\n",
    "    (System, [System.call_neuron]),\n",
    "    (Tools, [Tools.text2image, Tools.edit_images, Tools.dataset_exemplars, \n",
    "             Tools.display, Tools.describe_images, Tools.summarize_images])\n",
    "]\n",
    "maia = InterpAgent(\n",
    "    model_name=maia_model,\n",
    "    api=api,\n",
    "    prompt_path=path2prompts,\n",
    "    api_prompt_name=\"api.txt\",\n",
    "    user_prompt_name=f\"user_{task}.txt\",\n",
    "    overload_prompt_name=\"final.txt\",\n",
    "    end_experiment_token=\"[FINAL]\",\n",
    "    max_round_count=15,\n",
    "    debug=debug\n",
    ")\n",
    "if model_name == \"synthetic\":\n",
    "    net_dissect = SyntheticExemplars(\n",
    "        os.path.join(path2exemplars, model_name),\n",
    "        path2save,\n",
    "        layer\n",
    "    )\n",
    "    gt_label = retrieve_synth_label(layer, neuron_num)\n",
    "    system = SyntheticSystem(neuron_num, gt_label, layer, device)\n",
    "else:\n",
    "    net_dissect = DatasetExemplars(\n",
    "        path2exemplars,\n",
    "        n_exemplars,\n",
    "        path2save,\n",
    "        unit_config\n",
    "    )\n",
    "    system = System(model_name, layer, neuron_num, net_dissect.thresholds, device)\n",
    "\n",
    "tools = Tools(\n",
    "    path2save,\n",
    "    device,\n",
    "    maia,\n",
    "    system,\n",
    "    net_dissect,\n",
    "    images_per_prompt=images_per_prompt,\n",
    "    text2image_model_name=text2image,\n",
    "    image2text_model_name=maia_model\n",
    ")\n",
    "\n",
    "print(\"HTML path: \", tools.html_path)"
   ]
  },
  {
   "cell_type": "markdown",
   "metadata": {},
   "source": [
    "## Maia's api and user prompts"
   ]
  },
  {
   "cell_type": "code",
   "execution_count": null,
   "metadata": {},
   "outputs": [],
   "source": [
    "plot_results_notebook(maia.experiment_log[0])\n",
    "plot_results_notebook(maia.experiment_log[1])"
   ]
  },
  {
   "cell_type": "markdown",
   "metadata": {},
   "source": [
    "## Experiment"
   ]
  },
  {
   "cell_type": "code",
   "execution_count": null,
   "metadata": {},
   "outputs": [],
   "source": [
    "# Run full experiment\n",
    "maia.run_experiment(system, tools, save_html=True)"
   ]
  },
  {
   "cell_type": "markdown",
   "metadata": {},
   "source": [
    "### Manual Experiment\n",
    "To manually run experiment steps, run this cell repeatedly. "
   ]
  },
  {
   "cell_type": "code",
   "execution_count": null,
   "metadata": {},
   "outputs": [],
   "source": [
    "# To reset maia's experiment log to just the api and user prompt, run\n",
    "# maia._init_experiment_log()\n",
    "model_experiment = ask_agent(model_name, maia.experiment_log)\n",
    "experiment_output = maia.experiment_env.execute_experiment(model_experiment)\n",
    "maia.update_experiment_log(role='user', type=\"text\", type_content=experiment_output)\n",
    "# Plot the results from the experiment log\n",
    "for log_entry in maia.experiment_log:\n",
    "    plot_results_notebook(log_entry)"
   ]
  },
  {
   "cell_type": "code",
   "execution_count": null,
   "metadata": {},
   "outputs": [],
   "source": []
  }
 ],
 "metadata": {
  "kernelspec": {
   "display_name": "maia-mamba2",
   "language": "python",
   "name": "python3"
  },
  "language_info": {
   "codemirror_mode": {
    "name": "ipython",
    "version": 3
   },
   "file_extension": ".py",
   "mimetype": "text/x-python",
   "name": "python",
   "nbconvert_exporter": "python",
   "pygments_lexer": "ipython3",
   "version": "3.8.18"
  }
 },
 "nbformat": 4,
 "nbformat_minor": 4
}
